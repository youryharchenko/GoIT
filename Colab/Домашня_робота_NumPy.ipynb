{
  "cells": [
    {
      "cell_type": "markdown",
      "metadata": {
        "id": "r-y6PSNEVyQy"
      },
      "source": [
        "# Домашня робота NumPy"
      ]
    },
    {
      "cell_type": "code",
      "execution_count": 1,
      "metadata": {
        "id": "Aa3gx9EKVmtx"
      },
      "outputs": [],
      "source": [
        "import numpy as np\n",
        "from IPython.display import Markdown, display\n",
        "from math import sqrt"
      ]
    },
    {
      "cell_type": "markdown",
      "metadata": {
        "id": "79KyLnL2WFxU"
      },
      "source": [
        "## Перше завдання\n",
        "\n",
        "Вкладник поклав 50000 умовних одиниць на три різні рахунки в три різні банки. За першим рахунком виплати становитимуть 5% річних, по другому – 7% річних та по третьому 6% річних. Відомо, що через рік вкладник отримав за відсотками суму в 2250 у.о. з першого та другого банку та суму в 1400 у.о. з першого та третього банку. Скільки умовних одиниць він поклав на кожен рахунок спочатку?"
      ]
    },
    {
      "cell_type": "code",
      "execution_count": 2,
      "metadata": {
        "colab": {
          "base_uri": "https://localhost:8080/",
          "height": 83
        },
        "id": "07wbGyVuWQwf",
        "outputId": "167d9cc5-11c4-4f27-8c82-55bf4bfcec72"
      },
      "outputs": [
        {
          "data": {
            "text/markdown": [
              "\n",
              "* В перший банк: 10000 уо\n",
              "* В другий банк: 25000 уо\n",
              "* В третій банк: 15000 уо\n"
            ],
            "text/plain": [
              "<IPython.core.display.Markdown object>"
            ]
          },
          "metadata": {},
          "output_type": "display_data"
        }
      ],
      "source": [
        "def w01():\n",
        "  s = 50000.0\n",
        "\n",
        "  r1 = 0.05\n",
        "  r2 = 0.07\n",
        "  r3 = 0.06\n",
        "\n",
        "  p1 = 2250.0\n",
        "  p2 = 1400.0\n",
        "\n",
        "  a = np.matrix([\n",
        "      [1.0, 1.0, 1.0],\n",
        "      [r1, r2, 0.0],\n",
        "      [r1, 0.0, r3]])\n",
        "\n",
        "  b = np.matrix([[s], [p1], [p2]])\n",
        "\n",
        "  a_inv = np.linalg.inv(a)\n",
        "  x = a_inv.dot(b).T\n",
        "  return Markdown(f\"\"\"\n",
        "* В перший банк: {round(x[0, 0])} уо\n",
        "* В другий банк: {round(x[0, 1])} уо\n",
        "* В третій банк: {round(x[0, 2])} уо\n",
        "\"\"\")\n",
        "\n",
        "display(w01())"
      ]
    },
    {
      "cell_type": "markdown",
      "metadata": {
        "id": "NgA-oyNUVwYR"
      },
      "source": [
        "## Друге завдання\n",
        "\n",
        "На складі зберігаються мобільні телефони iPhone 12, iPhone 13, iPhone 15 моделей. Всього 1328 екземплярів. Моделей iPhone 12 на 120 менше, ніж моделей iPhone 13, та на 100 більше, ніж моделей iPhone 15. Скільки моделей кожного виду на складі?"
      ]
    },
    {
      "cell_type": "code",
      "execution_count": 3,
      "metadata": {
        "colab": {
          "base_uri": "https://localhost:8080/",
          "height": 83
        },
        "id": "I-bQV5XPfMgi",
        "outputId": "8851000e-bf3f-4a3c-f7d5-7f48daadb8fb"
      },
      "outputs": [
        {
          "data": {
            "text/markdown": [
              "\n",
              "* iPhone 12: 436 шт\n",
              "* iPhone 13: 556 шт\n",
              "* iPhone 15: 336 шт\n"
            ],
            "text/plain": [
              "<IPython.core.display.Markdown object>"
            ]
          },
          "metadata": {},
          "output_type": "display_data"
        }
      ],
      "source": [
        "def w02():\n",
        "  s = 1328.0\n",
        "\n",
        "  a = np.matrix([\n",
        "      [1.0, 1.0, 1.0],\n",
        "      [-1.0, 1, 0.0],\n",
        "      [1.0, 0.0, -1.0]])\n",
        "\n",
        "  b = np.matrix([[s], [120.0], [100.0]])\n",
        "\n",
        "  a_inv = np.linalg.inv(a)\n",
        "  x = a_inv.dot(b).T\n",
        "  return Markdown(f\"\"\"\n",
        "* iPhone 12: {round(x[0, 0])} шт\n",
        "* iPhone 13: {round(x[0, 1])} шт\n",
        "* iPhone 15: {round(x[0, 2])} шт\n",
        "\"\"\")\n",
        "\n",
        "display(w02())"
      ]
    },
    {
      "cell_type": "markdown",
      "metadata": {
        "id": "UdEh0Wm2VrGr"
      },
      "source": []
    },
    {
      "cell_type": "markdown",
      "metadata": {
        "id": "qFP4g8rel0ZE"
      },
      "source": [
        "## Третє завдання\n",
        "\n",
        "Складіть канонічне рівняння еліпсоїда"
      ]
    },
    {
      "cell_type": "code",
      "execution_count": 4,
      "metadata": {
        "colab": {
          "base_uri": "https://localhost:8080/",
          "height": 71
        },
        "id": "8EjVWBIJnOfH",
        "outputId": "4a9ee907-1950-4bce-bf9d-ff008e829d75"
      },
      "outputs": [
        {
          "data": {
            "text/markdown": [
              "\n",
              "* Рівняння еліпсоїда\n",
              "$$ \\frac{x^2}{12.0}+\\frac{y^2}{0.5}+\\frac{z^2}{4.0} = 1 $$\n"
            ],
            "text/plain": [
              "<IPython.core.display.Markdown object>"
            ]
          },
          "metadata": {},
          "output_type": "display_data"
        }
      ],
      "source": [
        "def w03():\n",
        "  Ax = sqrt(3.0)\n",
        "  Ay = 0.0\n",
        "  Az = sqrt(3.0)\n",
        "\n",
        "  Bx = sqrt(6.0)\n",
        "  By = 0.5\n",
        "  Bz = 0.0\n",
        "\n",
        "  Cx = 1.0\n",
        "  Cy = 1.0/sqrt(3.0)\n",
        "  Cz = 1.0\n",
        "\n",
        "\n",
        "  a = np.matrix([\n",
        "      [Ax*Ax, Ay*Ay, Az*Az],\n",
        "      [Bx*Bx, By*By, Bz*Bz],\n",
        "      [Cx*Cx, Cy*Cy, Cz*Cz]])\n",
        "\n",
        "  b = np.matrix([[1.0], [1.0], [1.0]])\n",
        "\n",
        "  a_inv = np.linalg.inv(a)\n",
        "  x = a_inv.dot(b).T\n",
        "  return Markdown(f\"\"\"\n",
        "* Рівняння еліпсоїда\n",
        "$$ \\\\frac{{x^2}}{{{round(1.0/x[0, 0], 3)}}}+\\\\frac{{y^2}}{{{round(1.0/x[0, 1], 3)}}}+\\\\frac{{z^2}}{{{round(1.0/x[0, 2], 3)}}} = 1 $$\n",
        "\"\"\")\n",
        "\n",
        "display(w03())"
      ]
    },
    {
      "cell_type": "markdown",
      "metadata": {
        "id": "MJPNQrGB0lbQ"
      },
      "source": [
        "## Четверте завдання\n",
        "\n",
        "Складіть рівняння параболи, що проходить через задані три точки (1, 12), (3, 54), (-1, 2). Необхідно знайти коефіцієнти рівняння a, b, c $ y=a⋅x^2+b⋅x+c $"
      ]
    },
    {
      "cell_type": "code",
      "execution_count": 5,
      "metadata": {
        "colab": {
          "base_uri": "https://localhost:8080/",
          "height": 68
        },
        "id": "P7YeLgok1Y0h",
        "outputId": "82590c8f-afa7-456b-b7b1-2c0f3d3884a4"
      },
      "outputs": [
        {
          "data": {
            "text/markdown": [
              "\n",
              "* Рівняння параболи\n",
              "$$ y=4.0⋅x^2+5.0⋅x+3.0 $$\n"
            ],
            "text/plain": [
              "<IPython.core.display.Markdown object>"
            ]
          },
          "metadata": {},
          "output_type": "display_data"
        }
      ],
      "source": [
        "def w04():\n",
        "  Ax = 1.0\n",
        "  Ay = 12.0\n",
        "\n",
        "  Bx = 3.0\n",
        "  By = 54.0\n",
        "\n",
        "  Cx = -1.0\n",
        "  Cy = 2.0\n",
        "\n",
        "  a = np.matrix([\n",
        "      [Ax*Ax, Ax, 1.0],\n",
        "      [Bx*Bx, Bx, 1.0],\n",
        "      [Cx*Cx, Cx, 1.0]])\n",
        "\n",
        "  b = np.matrix([[Ay], [By], [Cy]])\n",
        "\n",
        "  a_inv = np.linalg.inv(a)\n",
        "  x = a_inv.dot(b).T\n",
        "  return Markdown(f\"\"\"\n",
        "* Рівняння параболи\n",
        "$$ y={round(x[0, 0], 3)}⋅x^2+{round(x[0, 1], 3)}⋅x+{round(x[0, 2], 3)} $$\n",
        "\"\"\")\n",
        "\n",
        "display(w04())"
      ]
    },
    {
      "cell_type": "markdown",
      "metadata": {
        "id": "934i9u-S5D5_"
      },
      "source": [
        "## П'яте завдання\n",
        "\n",
        "Складіть функцію get_polynom, яка за набором точок виду (x1,y1),(x2,y2),…,(xn+1,yn+1)(x1​,y1​),(x2​,y2​),…,(xn+1​,yn+1​) буде знаходити коефіцієнти багаточлена ci​. Таким\n",
        "чином функція приймає список кортежів з координатами та повертає набір коефіцієнтів c0,c1,…,cnc0​,c1​,…,cn"
      ]
    },
    {
      "cell_type": "code",
      "execution_count": 6,
      "metadata": {
        "colab": {
          "base_uri": "https://localhost:8080/",
          "height": 68
        },
        "id": "RlHG9qRz5NZR",
        "outputId": "6cc00d61-8c86-4954-fd07-7183ab11fc4f"
      },
      "outputs": [
        {
          "data": {
            "text/markdown": [
              "\n",
              "* Рівняння поліному (параболи)\n",
              "$$ y=4.0⋅x^2+5.0⋅x+3.0 $$\n"
            ],
            "text/plain": [
              "<IPython.core.display.Markdown object>"
            ]
          },
          "metadata": {},
          "output_type": "display_data"
        }
      ],
      "source": [
        "def get_polynom(cs):\n",
        "  n = len(cs)\n",
        "  a = np.matrix([[ c[0]**(n-p-1) for p in range(n)] for c in cs])\n",
        "  b = np.matrix([[c[1]] for c in cs])\n",
        "\n",
        "  x = np.linalg.solve(a, b).T\n",
        "\n",
        "  return x\n",
        "\n",
        "def w05():\n",
        "  cs = [(1, 12), (3, 54), (-1, 2)]\n",
        "  x = get_polynom(cs)\n",
        "  return Markdown(f\"\"\"\n",
        "* Рівняння поліному (параболи)\n",
        "$$ y={round(x[0, 0], 3)}⋅x^2+{round(x[0, 1], 3)}⋅x+{round(x[0, 2], 3)} $$\n",
        "\"\"\")\n",
        "\n",
        "display(w05())\n",
        "\n"
      ]
    },
    {
      "cell_type": "code",
      "execution_count": 7,
      "metadata": {
        "colab": {
          "base_uri": "https://localhost:8080/",
          "height": 68
        },
        "id": "xjHyJcy9FNoY",
        "outputId": "53d20900-ef26-4d0f-fa1e-f081f42b74b3"
      },
      "outputs": [
        {
          "data": {
            "text/markdown": [
              "\n",
              "* Рівняння поліному (параболи)\n",
              "$$ y=4.0⋅x^2+5.0⋅x+3.0 $$\n"
            ],
            "text/plain": [
              "<IPython.core.display.Markdown object>"
            ]
          },
          "metadata": {},
          "output_type": "display_data"
        }
      ],
      "source": [
        "def get_polynom_2(cs):\n",
        "  n = len(cs)\n",
        "  x_cs = np.matrix([c[0] for c in cs])\n",
        "  b = np.matrix([[c[1]] for c in cs])\n",
        "\n",
        "  # Будуємо матрицю Вандермонда\n",
        "  a = np.vander(x_cs, n)\n",
        "\n",
        "  x = np.linalg.solve(a, b).T\n",
        "\n",
        "  return x\n",
        "\n",
        "def w05_2():\n",
        "  cs = [(1, 12), (3, 54), (-1, 2)]\n",
        "  x = get_polynom(cs)\n",
        "  return Markdown(f\"\"\"\n",
        "* Рівняння поліному (параболи)\n",
        "$$ y={round(x[0, 0], 3)}⋅x^2+{round(x[0, 1], 3)}⋅x+{round(x[0, 2], 3)} $$\n",
        "\"\"\")\n",
        "\n",
        "display(w05_2())\n",
        "\n"
      ]
    },
    {
      "cell_type": "markdown",
      "metadata": {
        "id": "JgYORlcmA_J2"
      },
      "source": []
    }
  ],
  "metadata": {
    "colab": {
      "provenance": []
    },
    "kernelspec": {
      "display_name": "Python 3",
      "name": "python3"
    },
    "language_info": {
      "codemirror_mode": {
        "name": "ipython",
        "version": 3
      },
      "file_extension": ".py",
      "mimetype": "text/x-python",
      "name": "python",
      "nbconvert_exporter": "python",
      "pygments_lexer": "ipython3",
      "version": "3.10.12"
    }
  },
  "nbformat": 4,
  "nbformat_minor": 0
}
