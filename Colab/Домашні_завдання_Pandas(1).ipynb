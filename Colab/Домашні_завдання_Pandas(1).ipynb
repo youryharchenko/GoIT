{
  "cells": [
    {
      "cell_type": "markdown",
      "metadata": {
        "id": "HfBiaRvjkhN5"
      },
      "source": [
        "# Домашні завдання Pandas"
      ]
    },
    {
      "cell_type": "code",
      "execution_count": 21,
      "metadata": {
        "id": "zpk6p84cnOk5"
      },
      "outputs": [],
      "source": [
        "import numpy as np\n",
        "import pandas as pd\n",
        "import gdown\n",
        "import os\n",
        "from IPython.display import Markdown, display"
      ]
    },
    {
      "cell_type": "markdown",
      "metadata": {
        "id": "TOX1e5EakAS_"
      },
      "source": [
        "## Частина перша: Знайомство з Pandas\n",
        "\n",
        "Прочитайте дані за допомогою методу read_html з таблиці \"Коефіцієнт народжуваності в регіонах України (1950—2019)\" посилання\n",
        "\n",
        "Необхідно виконати:\n",
        "\n",
        "*    Вивести перші рядки таблиці за допомогою методу head\n",
        "*    Визначте кількість рядків та стовпців у датафреймі (атрибут shape)\n",
        "*    Замініть у таблиці значення \"—\" на значення NaN\n",
        "*    Визначте типи всіх стовпців за допомогою dataframe.dtypes\n",
        "*   Замініть типи нечислових колонок на числові. Підказка - це колонки, де знаходився символ \"—\"\n",
        "*    Порахуйте, яка частка пропусків міститься в кожній колонці (використовуйте методи isnull та sum)\n",
        "*    Видаліть з таблиці дані по всій країні, останній рядок таблиці\n",
        "*    Замініть відсутні дані в стовпцях середніми значеннями цих стовпців (метод fillna)\n",
        "*    Отримайте список регіонів, де рівень народжуваності у 2019 році був вищим за середній по Україні\n",
        "*    У якому регіоні була найвища народжуваність у 2014 році?\n",
        "*    Побудуйте стовпчикову діаграму народжуваності по регіонах у 2019 році"
      ]
    },
    {
      "cell_type": "code",
      "execution_count": 13,
      "metadata": {
        "colab": {
          "base_uri": "https://localhost:8080/",
          "height": 1000
        },
        "id": "eiC9icsAj7vm",
        "outputId": "ea41d65e-b81d-4876-97b3-5c4f7a44e596"
      },
      "outputs": [
        {
          "name": "stdout",
          "output_type": "stream",
          "text": [
            "<class 'pandas.core.frame.DataFrame'>\n",
            "RangeIndex: 28 entries, 0 to 27\n",
            "Data columns (total 9 columns):\n",
            " #   Column  Non-Null Count  Dtype  \n",
            "---  ------  --------------  -----  \n",
            " 0   Регіон  28 non-null     object \n",
            " 1   1950    26 non-null     float64\n",
            " 2   1960    27 non-null     float64\n",
            " 3   1970    27 non-null     float64\n",
            " 4   1990    28 non-null     int64  \n",
            " 5   2000    28 non-null     int64  \n",
            " 6   2012    28 non-null     int64  \n",
            " 7   2014    28 non-null     object \n",
            " 8   2019    28 non-null     object \n",
            "dtypes: float64(3), int64(3), object(3)\n",
            "memory usage: 2.1+ KB\n",
            "None\n"
          ]
        },
        {
          "data": {
            "text/markdown": [
              "\n",
              "### *Вивести перші рядки таблиці за допомогою методу head*\n",
              "  "
            ],
            "text/plain": [
              "<IPython.core.display.Markdown object>"
            ]
          },
          "metadata": {},
          "output_type": "display_data"
        },
        {
          "name": "stdout",
          "output_type": "stream",
          "text": [
            "             Регіон   1950   1960   1970  1990  2000  2012 2014 2019\n",
            "0              Крим  230.0  206.0  160.0   130    73   126    —    —\n",
            "1         Вінницька  224.0  192.0  142.0   124    84   112  109   76\n",
            "2         Волинська  247.0  250.0  179.0   153   112   148  141  101\n",
            "3  Дніпропетровська  204.0  204.0  151.0   123    71   112  111   71\n",
            "4          Донецька  271.0  214.0  140.0   109    61    98   82    —\n"
          ]
        },
        {
          "data": {
            "text/markdown": [
              "\n",
              "### *Визначте кількість рядків та стовпців у датафреймі (атрибут shape)*\n",
              "  "
            ],
            "text/plain": [
              "<IPython.core.display.Markdown object>"
            ]
          },
          "metadata": {},
          "output_type": "display_data"
        },
        {
          "name": "stdout",
          "output_type": "stream",
          "text": [
            "Рядків: 28, Стовпців: 9\n"
          ]
        },
        {
          "data": {
            "text/markdown": [
              "\n",
              "### *Замініть у таблиці значення \"—\" на значення NaN*\n",
              "  "
            ],
            "text/plain": [
              "<IPython.core.display.Markdown object>"
            ]
          },
          "metadata": {},
          "output_type": "display_data"
        },
        {
          "name": "stdout",
          "output_type": "stream",
          "text": [
            "             Регіон   1950   1960   1970  1990  2000  2012 2014 2019\n",
            "0              Крим  230.0  206.0  160.0   130    73   126  NaN  NaN\n",
            "1         Вінницька  224.0  192.0  142.0   124    84   112  109   76\n",
            "2         Волинська  247.0  250.0  179.0   153   112   148  141  101\n",
            "3  Дніпропетровська  204.0  204.0  151.0   123    71   112  111   71\n",
            "4          Донецька  271.0  214.0  140.0   109    61    98   82  NaN\n"
          ]
        },
        {
          "data": {
            "text/markdown": [
              "\n",
              "### *Визначте типи всіх стовпців за допомогою dataframe.dtypes*\n",
              "  "
            ],
            "text/plain": [
              "<IPython.core.display.Markdown object>"
            ]
          },
          "metadata": {},
          "output_type": "display_data"
        },
        {
          "name": "stdout",
          "output_type": "stream",
          "text": [
            "Регіон     object\n",
            "1950      float64\n",
            "1960      float64\n",
            "1970      float64\n",
            "1990        int64\n",
            "2000        int64\n",
            "2012        int64\n",
            "2014       object\n",
            "2019       object\n",
            "dtype: object\n"
          ]
        },
        {
          "data": {
            "text/markdown": [
              "\n",
              "### *Замініть типи нечислових колонок на числові. Підказка - це колонки, де знаходився символ \"—\"*\n",
              "  "
            ],
            "text/plain": [
              "<IPython.core.display.Markdown object>"
            ]
          },
          "metadata": {},
          "output_type": "display_data"
        },
        {
          "name": "stdout",
          "output_type": "stream",
          "text": [
            "Регіон     object\n",
            "1950      float64\n",
            "1960      float64\n",
            "1970      float64\n",
            "1990      float32\n",
            "2000      float32\n",
            "2012      float32\n",
            "2014      float32\n",
            "2019      float32\n",
            "dtype: object\n",
            "             Регіон   1950   1960   1970   1990   2000   2012   2014   2019\n",
            "0              Крим  230.0  206.0  160.0  130.0   73.0  126.0    NaN    NaN\n",
            "1         Вінницька  224.0  192.0  142.0  124.0   84.0  112.0  109.0   76.0\n",
            "2         Волинська  247.0  250.0  179.0  153.0  112.0  148.0  141.0  101.0\n",
            "3  Дніпропетровська  204.0  204.0  151.0  123.0   71.0  112.0  111.0   71.0\n",
            "4          Донецька  271.0  214.0  140.0  109.0   61.0   98.0   82.0    NaN\n"
          ]
        },
        {
          "data": {
            "text/markdown": [
              "\n",
              "### *Порахуйте, яка частка пропусків міститься в кожній колонці (використовуйте методи isnull та sum)*\n",
              "  "
            ],
            "text/plain": [
              "<IPython.core.display.Markdown object>"
            ]
          },
          "metadata": {},
          "output_type": "display_data"
        },
        {
          "name": "stdout",
          "output_type": "stream",
          "text": [
            "Регіон - частка пропусків: 0/28=0.0%\n",
            "1950 - частка пропусків: 2/28=7.14%\n",
            "1960 - частка пропусків: 1/28=3.57%\n",
            "1970 - частка пропусків: 1/28=3.57%\n",
            "1990 - частка пропусків: 0/28=0.0%\n",
            "2000 - частка пропусків: 0/28=0.0%\n",
            "2012 - частка пропусків: 0/28=0.0%\n",
            "2014 - частка пропусків: 2/28=7.14%\n",
            "2019 - частка пропусків: 4/28=14.29%\n"
          ]
        },
        {
          "data": {
            "text/markdown": [
              "\n",
              "### *Видаліть з таблиці дані по всій країні, останній рядок таблиці*\n",
              "  "
            ],
            "text/plain": [
              "<IPython.core.display.Markdown object>"
            ]
          },
          "metadata": {},
          "output_type": "display_data"
        },
        {
          "name": "stdout",
          "output_type": "stream",
          "text": [
            "     Регіон   1950   1960   1970   1990  2000   2012   2014  2019\n",
            "27  Україна  228.0  205.0  152.0  126.0  78.0  114.0  111.0  81.0\n",
            "27\n"
          ]
        },
        {
          "data": {
            "text/markdown": [
              "\n",
              "### *Замініть відсутні дані в стовпцях середніми значеннями цих стовпців (метод fillna)*\n",
              "  "
            ],
            "text/plain": [
              "<IPython.core.display.Markdown object>"
            ]
          },
          "metadata": {},
          "output_type": "display_data"
        },
        {
          "name": "stdout",
          "output_type": "stream",
          "text": [
            "             Регіон   1950   1960   1970   1990   2000   2012        2014  \\\n",
            "0              Крим  230.0  206.0  160.0  130.0   73.0  126.0  111.440002   \n",
            "1         Вінницька  224.0  192.0  142.0  124.0   84.0  112.0  109.000000   \n",
            "2         Волинська  247.0  250.0  179.0  153.0  112.0  148.0  141.000000   \n",
            "3  Дніпропетровська  204.0  204.0  151.0  123.0   71.0  112.0  111.000000   \n",
            "4          Донецька  271.0  214.0  140.0  109.0   61.0   98.0   82.000000   \n",
            "\n",
            "         2019  \n",
            "0   80.173912  \n",
            "1   76.000000  \n",
            "2  101.000000  \n",
            "3   71.000000  \n",
            "4   80.173912  \n"
          ]
        },
        {
          "data": {
            "text/markdown": [
              "\n",
              "### *Отримайте список регіонів, де рівень народжуваності у 2019 році був вищим за середній по Україні*\n",
              "  "
            ],
            "text/plain": [
              "<IPython.core.display.Markdown object>"
            ]
          },
          "metadata": {},
          "output_type": "display_data"
        },
        {
          "name": "stdout",
          "output_type": "stream",
          "text": [
            "2             Волинська\n",
            "6          Закарпатська\n",
            "8     Івано-Франківська\n",
            "12            Львівська\n",
            "14              Одеська\n",
            "16           Рівненська\n",
            "23          Чернівецька\n",
            "25                 Київ\n",
            "Name: Регіон, dtype: object\n"
          ]
        },
        {
          "data": {
            "text/markdown": [
              "\n",
              "### *У якому регіоні була найвища народжуваність у 2014 році?*\n",
              "  "
            ],
            "text/plain": [
              "<IPython.core.display.Markdown object>"
            ]
          },
          "metadata": {},
          "output_type": "display_data"
        },
        {
          "name": "stdout",
          "output_type": "stream",
          "text": [
            "16    Рівненська\n",
            "Name: Регіон, dtype: object\n",
            "\n",
            "\n",
            "  \n"
          ]
        },
        {
          "data": {
            "application/vnd.google.colaboratory.intrinsic+json": {
              "type": "string"
            },
            "text/plain": [
              "'Ok'"
            ]
          },
          "execution_count": 13,
          "metadata": {},
          "output_type": "execute_result"
        },
        {
          "data": {
            "image/png": "[encoded data removed]",
            "text/plain": [
              "<Figure size 640x480 with 1 Axes>"
            ]
          },
          "metadata": {},
          "output_type": "display_data"
        }
      ],
      "source": [
        "def w01():\n",
        "  url = \"https://uk.wikipedia.org/wiki/%D0%9D%D0%B0%D1%81%D0%B5%D0%BB%D0%B5%D0%BD%D0%BD%D1%8F_%D0%A3%D0%BA%D1%80%D0%B0%D1%97%D0%BD%D0%B8#%D0%9D%D0%B0%D1%80%D0%BE%D0%B4%D0%B6%D1%83%D0%B2%D0%B0%D0%BD%D1%96%D1%81%D1%82%D1%8C\"\n",
        "  dfs = pd.read_html(url)\n",
        "  n = -1\n",
        "  for i, df in enumerate(dfs):\n",
        "    if df.columns.tolist() == ['Регіон', '1950', '1960', '1970', '1990', '2000', '2012', '2014', '2019']:\n",
        "      n = i\n",
        "      break\n",
        "  if n == -1:\n",
        "    print(\"Таблицю не знайдено\")\n",
        "    return None\n",
        "\n",
        "  print(df.info())\n",
        "\n",
        "  # Вивести перші рядки таблиці за допомогою методу head\n",
        "  display(Markdown(\"\"\"\n",
        "### *Вивести перші рядки таблиці за допомогою методу head*\n",
        "  \"\"\"))\n",
        "  print(df.head())\n",
        "\n",
        "  # Визначте кількість рядків та стовпців у датафреймі (атрибут shape)\n",
        "  display(Markdown(\"\"\"\n",
        "### *Визначте кількість рядків та стовпців у датафреймі (атрибут shape)*\n",
        "  \"\"\"))\n",
        "  nrows = df.shape[0]\n",
        "  ncols = df.shape[1]\n",
        "  print(f\"Рядків: {nrows}, Стовпців: {ncols}\")\n",
        "\n",
        "  # Замініть у таблиці значення \"—\" на значення NaN\n",
        "  display(Markdown(\"\"\"\n",
        "### *Замініть у таблиці значення \"—\" на значення NaN*\n",
        "  \"\"\"))\n",
        "  df = df.replace(\"—\", np.nan)\n",
        "  print(df.head())\n",
        "\n",
        "  # Визначте типи всіх стовпців за допомогою dataframe.dtypes\n",
        "  display(Markdown(\"\"\"\n",
        "### *Визначте типи всіх стовпців за допомогою dataframe.dtypes*\n",
        "  \"\"\"))\n",
        "  print(df.dtypes)\n",
        "\n",
        "  # Замініть типи нечислових колонок на числові. Підказка - це колонки, де знаходився символ \"—\"\n",
        "  display(Markdown(\"\"\"\n",
        "### *Замініть типи нечислових колонок на числові. Підказка - це колонки, де знаходився символ \"—\"*\n",
        "  \"\"\"))\n",
        "  for cname in df.columns.to_list()[1:]:\n",
        "    if df.dtypes[cname] not in [float]:\n",
        "      df[cname] = pd.to_numeric(df[cname], errors='coerce', downcast='float')\n",
        "  print(df.dtypes)\n",
        "  print(df.head())\n",
        "\n",
        "  # Порахуйте, яка частка пропусків міститься в кожній колонці (використовуйте методи isnull та sum)\n",
        "  display(Markdown(\"\"\"\n",
        "### *Порахуйте, яка частка пропусків міститься в кожній колонці (використовуйте методи isnull та sum)*\n",
        "  \"\"\"))\n",
        "  for cname in df.columns.to_list():\n",
        "    print(f\"{cname} - частка пропусків: {df[cname].isnull().sum()}/{len(df[cname])}={round(df[cname].isnull().sum()/len(df[cname])*100, 2)}%\")\n",
        "\n",
        "  # Видаліть з таблиці дані по всій країні, останній рядок таблиці\n",
        "  display(Markdown(\"\"\"\n",
        "### *Видаліть з таблиці дані по всій країні, останній рядок таблиці*\n",
        "  \"\"\"))\n",
        "  df_tot = df[-1:]\n",
        "  print(df_tot)\n",
        "  df = df[:-1]\n",
        "  print(len(df))\n",
        "\n",
        "  # Замініть відсутні дані в стовпцях середніми значеннями цих стовпців (метод fillna)\n",
        "  display(Markdown(\"\"\"\n",
        "### *Замініть відсутні дані в стовпцях середніми значеннями цих стовпців (метод fillna)*\n",
        "  \"\"\"))\n",
        "  for cname in df.columns.to_list()[1:]:\n",
        "    df[cname] = df[cname].fillna(df[cname].mean(skipna=True))\n",
        "  print(df.head())\n",
        "\n",
        "  # Отримайте список регіонів, де рівень народжуваності у 2019 році був вищим за середній по Україні\n",
        "  display(Markdown(\"\"\"\n",
        "### *Отримайте список регіонів, де рівень народжуваності у 2019 році був вищим за середній по Україні*\n",
        "  \"\"\"))\n",
        "  print(df[df['2019'] > df_tot.iloc[0]['2019']]['Регіон'])\n",
        "\n",
        "  # У якому регіоні була найвища народжуваність у 2014 році?\n",
        "  display(Markdown(\"\"\"\n",
        "### *У якому регіоні була найвища народжуваність у 2014 році?*\n",
        "  \"\"\"))\n",
        "  print(df[df['2014'] == df['2014'].max()]['Регіон'])\n",
        "\n",
        "  # Побудуйте стовпчикову діаграму народжуваності по регіонах у 2019 році\n",
        "  print(\"\"\"\n",
        "\n",
        "  \"\"\")\n",
        "  df['2019'].plot(kind='bar', title='Діаграма народжуваності по регіонах у 2019')\n",
        "\n",
        "  return \"Ok\"\n",
        "\n",
        "w01()"
      ]
    },
    {
      "cell_type": "markdown",
      "metadata": {
        "id": "bI06N-fLogrw"
      },
      "source": [
        "## Частина друга: Аналіз файлів\n",
        "\n",
        "\n",
        "Проведіть аналіз файлу 2017_jun_final.csv. Файл містить результати опитування розробників у червні 2017 року.\n",
        "\n",
        "Необхідно виконати:\n",
        "\n",
        "*    Прочитайте файл 2017_jun_final.csv за допомогою методу read_csv\n",
        "*    Прочитайте отриману таблицю, використовуючи метод head\n",
        "*    Визначте розмір таблиці за допомогою методу shape\n",
        "*    Визначте типи всіх стовпців за допомогою dataframe.dtypes\n",
        "*    Порахуйте, яка частка пропусків міститься в кожній колонці (використовуйте методи isnull та sum)\n",
        "*    Видаліть усі стовпці з пропусками, крім стовпця Мова.програмування\n",
        "*    Знову порахуйте, яка частка пропусків міститься в кожній колонці і переконайтеся, що залишився тільки стовпець \"Мова.програмування\"\n",
        "*    Видаліть усі рядки у вихідній таблиці за допомогою методу dropna\n",
        "*    Визначте новий розмір таблиці за допомогою методу shape\n",
        "*    Створіть нову таблицю python_data, в якій будуть тільки рядки зі спеціалістами, які вказали мову програмування Python\n",
        "*    Визначте розмір таблиці python_data за допомогою методу shape\n",
        "*    Використовуючи метод groupby, виконайте групування за стовпчиком \"Посада\"\n",
        "*    Створіть новий DataFrame, де для згрупованих даних за стовпчиком \"Посада\", виконайте агрегацію даних за допомогою методу agg і знайдіть мінімальне та максимальне значення у стовпчику \"Зарплата.в.місяць\"\n",
        "*    Створіть функцію fill_avg_salary, яка повертатиме середнє значення заробітної плати на місяць. Використовуйте її для методу apply та створіть новий стовпчик \"avg\"\n",
        "*    Створіть описову статистику за допомогою методу describe для нового стовпчика.\n",
        "*    Збережіть отриману таблицю в CSV файл\n"
      ]
    },
    {
      "cell_type": "code",
      "execution_count": 25,
      "metadata": {
        "colab": {
          "base_uri": "https://localhost:8080/",
          "height": 105
        },
        "id": "HEcPzJ2jrYxJ",
        "outputId": "caef1090-b136-4fae-983b-232d4a90f1cb"
      },
      "outputs": [
        {
          "name": "stderr",
          "output_type": "stream",
          "text": [
            "Downloading...\n",
            "From: https://drive.google.com/uc?id=1_axik7rpXu46YlLtAGpUaoYKD6mLYP2j\n",
            "To: /content/2017_jun_final.csv\n",
            "100%|██████████| 3.62M/3.62M [00:00<00:00, 137MB/s]\n"
          ]
        },
        {
          "data": {
            "application/vnd.google.colaboratory.intrinsic+json": {
              "type": "string"
            },
            "text/plain": [
              "'2017_jun_final.csv'"
            ]
          },
          "execution_count": 25,
          "metadata": {},
          "output_type": "execute_result"
        }
      ],
      "source": [
        "gdown.download(f'https://drive.google.com/uc?id=1_axik7rpXu46YlLtAGpUaoYKD6mLYP2j',\n",
        "                   '2017_jun_final.csv', quiet=False)"
      ]
    },
    {
      "cell_type": "code",
      "execution_count": 68,
      "metadata": {
        "colab": {
          "base_uri": "https://localhost:8080/",
          "height": 1000
        },
        "id": "bJywh6xnx_lR",
        "outputId": "e5d669fc-2f17-4b8e-d6bd-96c3a366a851"
      },
      "outputs": [
        {
          "data": {
            "text/markdown": [
              "\n",
              "### *Прочитайте файл 2017_jun_final.csv за допомогою методу read_csv*\n",
              "  "
            ],
            "text/plain": [
              "<IPython.core.display.Markdown object>"
            ]
          },
          "metadata": {},
          "output_type": "display_data"
        },
        {
          "name": "stdout",
          "output_type": "stream",
          "text": [
            "<class 'pandas.core.frame.DataFrame'>\n",
            "RangeIndex: 8704 entries, 0 to 8703\n",
            "Data columns (total 25 columns):\n",
            " #   Column                            Non-Null Count  Dtype  \n",
            "---  ------                            --------------  -----  \n",
            " 0   N                                 8704 non-null   int64  \n",
            " 1   Должность                         8704 non-null   object \n",
            " 2   Язык.программирования             4854 non-null   object \n",
            " 3   Специализация                     1485 non-null   object \n",
            " 4   Общий.опыт.работы                 8704 non-null   object \n",
            " 5   Опыт.работы.на.текущем.месте      8704 non-null   object \n",
            " 6   Зарплата.в.месяц                  8704 non-null   int64  \n",
            " 7   Изменение.зарплаты.за.12.месяцев  8704 non-null   int64  \n",
            " 8   Город                             8704 non-null   object \n",
            " 9   Размер.компании                   8704 non-null   object \n",
            " 10  Тип.компании                      8704 non-null   object \n",
            " 11  Пол                               8704 non-null   object \n",
            " 12  Возраст                           8704 non-null   int64  \n",
            " 13  Образование                       8704 non-null   object \n",
            " 14  Университет                       8346 non-null   object \n",
            " 15  Еще.студент                       8704 non-null   bool   \n",
            " 16  Уровень.английского               8704 non-null   object \n",
            " 17  Предметная.область                8481 non-null   object \n",
            " 18  Дата.заполнения                   8704 non-null   object \n",
            " 19  User.Agent                        8704 non-null   object \n",
            " 20  exp                               8704 non-null   float64\n",
            " 21  current_job_exp                   8704 non-null   float64\n",
            " 22  salary                            8704 non-null   int64  \n",
            " 23  Валюта                            10 non-null     object \n",
            " 24  cls                               7130 non-null   object \n",
            "dtypes: bool(1), float64(2), int64(5), object(17)\n",
            "memory usage: 1.6+ MB\n"
          ]
        },
        {
          "data": {
            "text/markdown": [
              "\n",
              "### *Вивести перші рядки таблиці за допомогою методу head*\n",
              "  "
            ],
            "text/plain": [
              "<IPython.core.display.Markdown object>"
            ]
          },
          "metadata": {},
          "output_type": "display_data"
        },
        {
          "name": "stdout",
          "output_type": "stream",
          "text": [
            "   N                 Должность Язык.программирования Специализация  \\\n",
            "0  1        Junior QA engineer                   NaN     Manual QA   \n",
            "1  2        Junior QA engineer                   NaN     Manual QA   \n",
            "2  3         Software Engineer               C#/.NET           NaN   \n",
            "3  4         Software Engineer            JavaScript           NaN   \n",
            "4  5  Senior Software Engineer            JavaScript           NaN   \n",
            "\n",
            "  Общий.опыт.работы Опыт.работы.на.текущем.месте  Зарплата.в.месяц  \\\n",
            "0               0.5                          0.5               400   \n",
            "1  меньше 3 месяцев             меньше 3 месяцев               430   \n",
            "2                 4                            1              2500   \n",
            "3                 5                            4              2000   \n",
            "4    10 и более лет                          0.5              4500   \n",
            "\n",
            "   Изменение.зарплаты.за.12.месяцев    Город     Размер.компании  ...  \\\n",
            "0                                 0  Харьков       до 10 человек  ...   \n",
            "1                               130  Харьков  свыше 1000 человек  ...   \n",
            "2                               800     Киев     до 1000 человек  ...   \n",
            "3                               400   Одесса      до 200 человек  ...   \n",
            "4                               500   Другой       до 10 человек  ...   \n",
            "\n",
            "  Еще.студент Уровень.английского                    Предметная.область  \\\n",
            "0        True       ниже среднего                         iOS,eCommerce   \n",
            "1        True       выше среднего                        Веб-разработка   \n",
            "2       False             средний  Веб-разработка,Корпоративные системы   \n",
            "3       False       ниже среднего   Desktop Applications,Веб-разработка   \n",
            "4       False             средний   Desktop Applications,Веб-разработка   \n",
            "\n",
            "       Дата.заполнения                                         User.Agent  \\\n",
            "0  12/06/2017 12:38:08  Mozilla/5.0 (Windows NT 10.0; Win64; x64) Appl...   \n",
            "1  12/06/2017 12:42:51  Mozilla/5.0 (iPad; CPU OS 10_2_1 like Mac OS X...   \n",
            "2  12/06/2017 13:02:47  Mozilla/5.0 (Windows NT 10.0; Win64; x64) Appl...   \n",
            "3  12/06/2017 13:03:01  Mozilla/5.0 (Windows NT 6.1; Win64; x64) Apple...   \n",
            "4  12/06/2017 13:03:47  Mozilla/5.0 (iPhone; CPU iPhone OS 10_3_2 like...   \n",
            "\n",
            "    exp current_job_exp salary Валюта  cls  \n",
            "0   0.5             0.5    400    NaN   QA  \n",
            "1   0.0             0.0    430    NaN   QA  \n",
            "2   4.0             1.0   2500    NaN  DEV  \n",
            "3   5.0             4.0   2000    NaN  DEV  \n",
            "4  10.0             0.5   4500    NaN  DEV  \n",
            "\n",
            "[5 rows x 25 columns]\n"
          ]
        },
        {
          "data": {
            "text/markdown": [
              "\n",
              "### *Визначте розмір таблиці за допомогою методу shape*\n",
              "  "
            ],
            "text/plain": [
              "<IPython.core.display.Markdown object>"
            ]
          },
          "metadata": {},
          "output_type": "display_data"
        },
        {
          "name": "stdout",
          "output_type": "stream",
          "text": [
            "Рядків: 8704, Стовпців: 25\n"
          ]
        },
        {
          "data": {
            "text/markdown": [
              "\n",
              "### *Визначте типи всіх стовпців за допомогою dataframe.dtypes*\n",
              "  "
            ],
            "text/plain": [
              "<IPython.core.display.Markdown object>"
            ]
          },
          "metadata": {},
          "output_type": "display_data"
        },
        {
          "name": "stdout",
          "output_type": "stream",
          "text": [
            "N                                     int64\n",
            "Должность                            object\n",
            "Язык.программирования                object\n",
            "Специализация                        object\n",
            "Общий.опыт.работы                    object\n",
            "Опыт.работы.на.текущем.месте         object\n",
            "Зарплата.в.месяц                      int64\n",
            "Изменение.зарплаты.за.12.месяцев      int64\n",
            "Город                                object\n",
            "Размер.компании                      object\n",
            "Тип.компании                         object\n",
            "Пол                                  object\n",
            "Возраст                               int64\n",
            "Образование                          object\n",
            "Университет                          object\n",
            "Еще.студент                            bool\n",
            "Уровень.английского                  object\n",
            "Предметная.область                   object\n",
            "Дата.заполнения                      object\n",
            "User.Agent                           object\n",
            "exp                                 float64\n",
            "current_job_exp                     float64\n",
            "salary                                int64\n",
            "Валюта                               object\n",
            "cls                                  object\n",
            "dtype: object\n"
          ]
        },
        {
          "data": {
            "text/markdown": [
              "\n",
              "### *Порахуйте, яка частка пропусків міститься в кожній колонці (використовуйте методи isnull та sum)*\n",
              "  "
            ],
            "text/plain": [
              "<IPython.core.display.Markdown object>"
            ]
          },
          "metadata": {},
          "output_type": "display_data"
        },
        {
          "name": "stdout",
          "output_type": "stream",
          "text": [
            "N - частка пропусків: 0/8704=0.0%\n",
            "Должность - частка пропусків: 0/8704=0.0%\n",
            "Язык.программирования - частка пропусків: 3850/8704=44.23%\n",
            "Специализация - частка пропусків: 7219/8704=82.94%\n",
            "Общий.опыт.работы - частка пропусків: 0/8704=0.0%\n",
            "Опыт.работы.на.текущем.месте - частка пропусків: 0/8704=0.0%\n",
            "Зарплата.в.месяц - частка пропусків: 0/8704=0.0%\n",
            "Изменение.зарплаты.за.12.месяцев - частка пропусків: 0/8704=0.0%\n",
            "Город - частка пропусків: 0/8704=0.0%\n",
            "Размер.компании - частка пропусків: 0/8704=0.0%\n",
            "Тип.компании - частка пропусків: 0/8704=0.0%\n",
            "Пол - частка пропусків: 0/8704=0.0%\n",
            "Возраст - частка пропусків: 0/8704=0.0%\n",
            "Образование - частка пропусків: 0/8704=0.0%\n",
            "Университет - частка пропусків: 358/8704=4.11%\n",
            "Еще.студент - частка пропусків: 0/8704=0.0%\n",
            "Уровень.английского - частка пропусків: 0/8704=0.0%\n",
            "Предметная.область - частка пропусків: 223/8704=2.56%\n",
            "Дата.заполнения - частка пропусків: 0/8704=0.0%\n",
            "User.Agent - частка пропусків: 0/8704=0.0%\n",
            "exp - частка пропусків: 0/8704=0.0%\n",
            "current_job_exp - частка пропусків: 0/8704=0.0%\n",
            "salary - частка пропусків: 0/8704=0.0%\n",
            "Валюта - частка пропусків: 8694/8704=99.89%\n",
            "cls - частка пропусків: 1574/8704=18.08%\n"
          ]
        },
        {
          "data": {
            "text/markdown": [
              "\n",
              "### *Видаліть усі стовпці з пропусками, крім стовпця Мова.програмування*\n",
              "  "
            ],
            "text/plain": [
              "<IPython.core.display.Markdown object>"
            ]
          },
          "metadata": {},
          "output_type": "display_data"
        },
        {
          "name": "stdout",
          "output_type": "stream",
          "text": [
            "   N                 Должность Язык.программирования Общий.опыт.работы  \\\n",
            "0  1        Junior QA engineer                   NaN               0.5   \n",
            "1  2        Junior QA engineer                   NaN  меньше 3 месяцев   \n",
            "2  3         Software Engineer               C#/.NET                 4   \n",
            "3  4         Software Engineer            JavaScript                 5   \n",
            "4  5  Senior Software Engineer            JavaScript    10 и более лет   \n",
            "\n",
            "  Опыт.работы.на.текущем.месте  Зарплата.в.месяц  \\\n",
            "0                          0.5               400   \n",
            "1             меньше 3 месяцев               430   \n",
            "2                            1              2500   \n",
            "3                            4              2000   \n",
            "4                          0.5              4500   \n",
            "\n",
            "   Изменение.зарплаты.за.12.месяцев    Город     Размер.компании  \\\n",
            "0                                 0  Харьков       до 10 человек   \n",
            "1                               130  Харьков  свыше 1000 человек   \n",
            "2                               800     Киев     до 1000 человек   \n",
            "3                               400   Одесса      до 200 человек   \n",
            "4                               500   Другой       до 10 человек   \n",
            "\n",
            "     Тип.компании      Пол  Возраст           Образование  Еще.студент  \\\n",
            "0  Аутсорсинговая  женский       20  Незаконченное высшее         True   \n",
            "1  Аутсорсинговая  женский       21  Незаконченное высшее         True   \n",
            "2  Аутсорсинговая  мужской       26                Высшее        False   \n",
            "3     Продуктовая  мужской       30               Среднее        False   \n",
            "4     Продуктовая  мужской       30    Техникум / Колледж        False   \n",
            "\n",
            "  Уровень.английского      Дата.заполнения  \\\n",
            "0       ниже среднего  12/06/2017 12:38:08   \n",
            "1       выше среднего  12/06/2017 12:42:51   \n",
            "2             средний  12/06/2017 13:02:47   \n",
            "3       ниже среднего  12/06/2017 13:03:01   \n",
            "4             средний  12/06/2017 13:03:47   \n",
            "\n",
            "                                          User.Agent   exp  current_job_exp  \\\n",
            "0  Mozilla/5.0 (Windows NT 10.0; Win64; x64) Appl...   0.5              0.5   \n",
            "1  Mozilla/5.0 (iPad; CPU OS 10_2_1 like Mac OS X...   0.0              0.0   \n",
            "2  Mozilla/5.0 (Windows NT 10.0; Win64; x64) Appl...   4.0              1.0   \n",
            "3  Mozilla/5.0 (Windows NT 6.1; Win64; x64) Apple...   5.0              4.0   \n",
            "4  Mozilla/5.0 (iPhone; CPU iPhone OS 10_3_2 like...  10.0              0.5   \n",
            "\n",
            "   salary  \n",
            "0     400  \n",
            "1     430  \n",
            "2    2500  \n",
            "3    2000  \n",
            "4    4500  \n"
          ]
        },
        {
          "data": {
            "text/markdown": [
              "\n",
              "### *Знову порахуйте, яка частка пропусків міститься в кожній колонці і переконайтеся, що залишився тільки стовпець \"Мова.програмування\"*\n",
              "  "
            ],
            "text/plain": [
              "<IPython.core.display.Markdown object>"
            ]
          },
          "metadata": {},
          "output_type": "display_data"
        },
        {
          "name": "stdout",
          "output_type": "stream",
          "text": [
            "N - частка пропусків: 0/8704=0.0%\n",
            "Должность - частка пропусків: 0/8704=0.0%\n",
            "Язык.программирования - частка пропусків: 3850/8704=44.23%\n",
            "Общий.опыт.работы - частка пропусків: 0/8704=0.0%\n",
            "Опыт.работы.на.текущем.месте - частка пропусків: 0/8704=0.0%\n",
            "Зарплата.в.месяц - частка пропусків: 0/8704=0.0%\n",
            "Изменение.зарплаты.за.12.месяцев - частка пропусків: 0/8704=0.0%\n",
            "Город - частка пропусків: 0/8704=0.0%\n",
            "Размер.компании - частка пропусків: 0/8704=0.0%\n",
            "Тип.компании - частка пропусків: 0/8704=0.0%\n",
            "Пол - частка пропусків: 0/8704=0.0%\n",
            "Возраст - частка пропусків: 0/8704=0.0%\n",
            "Образование - частка пропусків: 0/8704=0.0%\n",
            "Еще.студент - частка пропусків: 0/8704=0.0%\n",
            "Уровень.английского - частка пропусків: 0/8704=0.0%\n",
            "Дата.заполнения - частка пропусків: 0/8704=0.0%\n",
            "User.Agent - частка пропусків: 0/8704=0.0%\n",
            "exp - частка пропусків: 0/8704=0.0%\n",
            "current_job_exp - частка пропусків: 0/8704=0.0%\n",
            "salary - частка пропусків: 0/8704=0.0%\n"
          ]
        },
        {
          "data": {
            "text/markdown": [
              "\n",
              "### *Видаліть усі рядки у вихідній таблиці за допомогою методу dropna*\n",
              "  "
            ],
            "text/plain": [
              "<IPython.core.display.Markdown object>"
            ]
          },
          "metadata": {},
          "output_type": "display_data"
        },
        {
          "name": "stdout",
          "output_type": "stream",
          "text": [
            "Empty DataFrame\n",
            "Columns: [N, Должность, Язык.программирования, Специализация, Общий.опыт.работы, Опыт.работы.на.текущем.месте, Зарплата.в.месяц, Изменение.зарплаты.за.12.месяцев, Город, Размер.компании, Тип.компании, Пол, Возраст, Образование, Университет, Еще.студент, Уровень.английского, Предметная.область, Дата.заполнения, User.Agent, exp, current_job_exp, salary, Валюта, cls]\n",
            "Index: []\n",
            "\n",
            "[0 rows x 25 columns]\n"
          ]
        },
        {
          "data": {
            "text/markdown": [
              "\n",
              "### *Визначте новий розмір таблиці за допомогою методу shape*\n",
              "  "
            ],
            "text/plain": [
              "<IPython.core.display.Markdown object>"
            ]
          },
          "metadata": {},
          "output_type": "display_data"
        },
        {
          "name": "stdout",
          "output_type": "stream",
          "text": [
            "Рядків: 0, Стовпців: 25\n"
          ]
        },
        {
          "data": {
            "text/markdown": [
              "\n",
              "### *Створіть нову таблицю python_data, в якій будуть тільки рядки зі спеціалістами, які вказали мову програмування Python*\n",
              "  "
            ],
            "text/plain": [
              "<IPython.core.display.Markdown object>"
            ]
          },
          "metadata": {},
          "output_type": "display_data"
        },
        {
          "name": "stdout",
          "output_type": "stream",
          "text": [
            "       N                 Должность Язык.программирования Специализация  \\\n",
            "12    13         Software Engineer                Python           NaN   \n",
            "68    69         Software Engineer                Python           NaN   \n",
            "87    88  Junior Software Engineer                Python           NaN   \n",
            "114  115  Junior Software Engineer                Python           NaN   \n",
            "143  144  Junior Software Engineer                Python           NaN   \n",
            "\n",
            "    Общий.опыт.работы Опыт.работы.на.текущем.месте  Зарплата.в.месяц  \\\n",
            "12                  1             меньше 3 месяцев               800   \n",
            "68                1.5                          0.5               900   \n",
            "87                0.5                          0.5               600   \n",
            "114               1.5                          0.5               685   \n",
            "143                 1                            1               750   \n",
            "\n",
            "     Изменение.зарплаты.за.12.месяцев Город  Размер.компании  ... Еще.студент  \\\n",
            "12                                200  Киев    до 50 человек  ...       False   \n",
            "68                                900  Киев    до 10 человек  ...        True   \n",
            "87                                  0  Киев    до 10 человек  ...        True   \n",
            "114                               250  Киев  до 1000 человек  ...       False   \n",
            "143                               250  Киев    до 10 человек  ...        True   \n",
            "\n",
            "    Уровень.английского        Предметная.область      Дата.заполнения  \\\n",
            "12        ниже среднего     Веб-разработка,Другое  12/06/2017 13:05:54   \n",
            "68        выше среднего            Веб-разработка  12/06/2017 13:11:17   \n",
            "87        выше среднего  Веб-разработка,eCommerce  12/06/2017 13:12:25   \n",
            "114             средний                    Другое  12/06/2017 13:14:52   \n",
            "143       выше среднего            Веб-разработка  12/06/2017 13:19:10   \n",
            "\n",
            "                                            User.Agent  exp current_job_exp  \\\n",
            "12   Mozilla/5.0 (Windows NT 6.1; Win64; x64) Apple...  1.0             0.0   \n",
            "68   Mozilla/5.0 (Windows NT 10.0; Win64; x64) Appl...  1.5             0.5   \n",
            "87   Mozilla/5.0 (X11; Linux x86_64) AppleWebKit/53...  0.5             0.5   \n",
            "114  Mozilla/5.0 (X11; Linux x86_64) AppleWebKit/53...  1.5             0.5   \n",
            "143  Mozilla/5.0 (X11; Linux x86_64) AppleWebKit/53...  1.0             1.0   \n",
            "\n",
            "    salary Валюта  cls  \n",
            "12     800    NaN  DEV  \n",
            "68     900    NaN  DEV  \n",
            "87     600    NaN  DEV  \n",
            "114    685    NaN  DEV  \n",
            "143    750    NaN  DEV  \n",
            "\n",
            "[5 rows x 25 columns]\n"
          ]
        },
        {
          "data": {
            "text/markdown": [
              "\n",
              "### *Визначте новий розмір таблиці за допомогою методу shape*\n",
              "  "
            ],
            "text/plain": [
              "<IPython.core.display.Markdown object>"
            ]
          },
          "metadata": {},
          "output_type": "display_data"
        },
        {
          "name": "stdout",
          "output_type": "stream",
          "text": [
            "Рядків: 207, Стовпців: 25\n"
          ]
        },
        {
          "data": {
            "text/markdown": [
              "\n",
              "### *Використовуючи метод groupby, виконайте групування за стовпчиком \"Посада\"*\n",
              "  "
            ],
            "text/plain": [
              "<IPython.core.display.Markdown object>"
            ]
          },
          "metadata": {},
          "output_type": "display_data"
        },
        {
          "name": "stdout",
          "output_type": "stream",
          "text": [
            "<pandas.core.groupby.generic.DataFrameGroupBy object at 0x79636b1e6010>\n"
          ]
        },
        {
          "data": {
            "text/markdown": [
              "\n",
              "### *Створіть новий DataFrame, де для згрупованих даних за стовпчиком \"Посада\", виконайте агрегацію даних за допомогою методу agg і знайдіть мінімальне та максимальне значення у стовпчику \"Зарплата.в.місяць\"*\n",
              "  "
            ],
            "text/plain": [
              "<IPython.core.display.Markdown object>"
            ]
          },
          "metadata": {},
          "output_type": "display_data"
        },
        {
          "name": "stdout",
          "output_type": "stream",
          "text": [
            "                         Зарплата.в.месяц      \n",
            "                                      min   max\n",
            "Должность                                      \n",
            "Junior Software Engineer              100  1250\n",
            "Senior Software Engineer             1300  9200\n",
            "Software Engineer                     500  5400\n",
            "System Architect                     3000  5000\n",
            "Technical Lead                       1425  6200\n"
          ]
        },
        {
          "data": {
            "text/markdown": [
              "\n",
              "### *Створіть функцію fill_avg_salary, яка повертатиме середнє значення заробітної плати на місяць. Використовуйте її для методу apply та створіть новий стовпчик \"avg\"*\n",
              "  "
            ],
            "text/plain": [
              "<IPython.core.display.Markdown object>"
            ]
          },
          "metadata": {},
          "output_type": "display_data"
        },
        {
          "name": "stdout",
          "output_type": "stream",
          "text": [
            "                         Зарплата.в.месяц              \n",
            "                                      min   max     avg\n",
            "Должность                                              \n",
            "Junior Software Engineer              100  1250   675.0\n",
            "Senior Software Engineer             1300  9200  5250.0\n",
            "Software Engineer                     500  5400  2950.0\n",
            "System Architect                     3000  5000  4000.0\n",
            "Technical Lead                       1425  6200  3812.5\n"
          ]
        },
        {
          "data": {
            "text/markdown": [
              "\n",
              "### *Створіть описову статистику за допомогою методу describe для нового стовпчика.*\n",
              "  "
            ],
            "text/plain": [
              "<IPython.core.display.Markdown object>"
            ]
          },
          "metadata": {},
          "output_type": "display_data"
        },
        {
          "name": "stdout",
          "output_type": "stream",
          "text": [
            "count       5.000000\n",
            "mean     3337.500000\n",
            "std      1700.091909\n",
            "min       675.000000\n",
            "25%      2950.000000\n",
            "50%      3812.500000\n",
            "75%      4000.000000\n",
            "max      5250.000000\n",
            "Name: (Зарплата.в.месяц, avg), dtype: float64\n"
          ]
        },
        {
          "data": {
            "text/markdown": [
              "\n",
              "### *Збережіть отриману таблицю в CSV файл*\n",
              "  "
            ],
            "text/plain": [
              "<IPython.core.display.Markdown object>"
            ]
          },
          "metadata": {},
          "output_type": "display_data"
        },
        {
          "data": {
            "application/vnd.google.colaboratory.intrinsic+json": {
              "type": "string"
            },
            "text/plain": [
              "'Ok'"
            ]
          },
          "execution_count": 68,
          "metadata": {},
          "output_type": "execute_result"
        }
      ],
      "source": [
        "def w02():\n",
        "  file = '/content/2017_jun_final.csv'\n",
        "  if not os.path.exists(file):\n",
        "    print(\"Файл не знайдено\")\n",
        "    return None\n",
        "\n",
        "  # Прочитайте файл 2017_jun_final.csv за допомогою методу read_csv\n",
        "  display(Markdown(\"\"\"\n",
        "### *Прочитайте файл 2017_jun_final.csv за допомогою методу read_csv*\n",
        "  \"\"\"))\n",
        "  df = pd.read_csv(file)\n",
        "  df.info()\n",
        "\n",
        "  # Вивести перші рядки таблиці за допомогою методу head\n",
        "  display(Markdown(\"\"\"\n",
        "### *Вивести перші рядки таблиці за допомогою методу head*\n",
        "  \"\"\"))\n",
        "  print(df.head())\n",
        "\n",
        "  # Визначте розмір таблиці за допомогою методу shape\n",
        "  display(Markdown(\"\"\"\n",
        "### *Визначте розмір таблиці за допомогою методу shape*\n",
        "  \"\"\"))\n",
        "  nrows = df.shape[0]\n",
        "  ncols = df.shape[1]\n",
        "  print(f\"Рядків: {nrows}, Стовпців: {ncols}\")\n",
        "\n",
        "  # Визначте типи всіх стовпців за допомогою dataframe.dtypes\n",
        "  display(Markdown(\"\"\"\n",
        "### *Визначте типи всіх стовпців за допомогою dataframe.dtypes*\n",
        "  \"\"\"))\n",
        "  print(df.dtypes)\n",
        "\n",
        "  # Порахуйте, яка частка пропусків міститься в кожній колонці (використовуйте методи isnull та sum)\n",
        "  display(Markdown(\"\"\"\n",
        "### *Порахуйте, яка частка пропусків міститься в кожній колонці (використовуйте методи isnull та sum)*\n",
        "  \"\"\"))\n",
        "  for cname in df.columns.to_list():\n",
        "    print(f\"{cname} - частка пропусків: {df[cname].isnull().sum()}/{len(df[cname])}={round(df[cname].isnull().sum()/len(df[cname])*100, 2)}%\")\n",
        "\n",
        "  # Видаліть усі стовпці з пропусками, крім стовпця Мова.програмування\n",
        "  display(Markdown(\"\"\"\n",
        "### *Видаліть усі стовпці з пропусками, крім стовпця Мова.програмування*\n",
        "  \"\"\"))\n",
        "  cnames = df.columns.to_list()\n",
        "  cols_to_drop = [cname for cname in cnames if df[cname].isnull().sum() > 0 and cname != 'Язык.программирования']\n",
        "  df2 = df.drop(cols_to_drop, axis=1)\n",
        "  print(df2.head())\n",
        "\n",
        "  # Знову порахуйте, яка частка пропусків міститься в кожній колонці і переконайтеся, що залишився тільки стовпець \"Мова.програмування\"\n",
        "  display(Markdown(\"\"\"\n",
        "### *Знову порахуйте, яка частка пропусків міститься в кожній колонці і переконайтеся, що залишився тільки стовпець \"Мова.програмування\"*\n",
        "  \"\"\"))\n",
        "  for cname in df2.columns.to_list():\n",
        "    print(f\"{cname} - частка пропусків: {df2[cname].isnull().sum()}/{len(df2[cname])}={round(df2[cname].isnull().sum()/len(df2[cname])*100, 2)}%\")\n",
        "\n",
        "  # Видаліть усі рядки у вихідній таблиці за допомогою методу dropna\n",
        "  display(Markdown(\"\"\"\n",
        "### *Видаліть усі рядки у вихідній таблиці за допомогою методу dropna*\n",
        "  \"\"\"))\n",
        "  df3 = df.dropna()\n",
        "  print(df3.head())\n",
        "\n",
        "  # Визначте новий розмір таблиці за допомогою методу shape\n",
        "  display(Markdown(\"\"\"\n",
        "### *Визначте новий розмір таблиці за допомогою методу shape*\n",
        "  \"\"\"))\n",
        "  nrows = df3.shape[0]\n",
        "  ncols = df3.shape[1]\n",
        "  print(f\"Рядків: {nrows}, Стовпців: {ncols}\")\n",
        "\n",
        "  # Створіть нову таблицю python_data, в якій будуть тільки рядки зі спеціалістами, які вказали мову програмування Python\n",
        "  display(Markdown(\"\"\"\n",
        "### *Створіть нову таблицю python_data, в якій будуть тільки рядки зі спеціалістами, які вказали мову програмування Python*\n",
        "  \"\"\"))\n",
        "  python_data = df[df['Язык.программирования'] == \"Python\"]\n",
        "  print(python_data.head())\n",
        "\n",
        "  # Визначте розмір таблиці python_data за допомогою методу shape\n",
        "  display(Markdown(\"\"\"\n",
        "### *Визначте новий розмір таблиці за допомогою методу shape*\n",
        "  \"\"\"))\n",
        "  nrows = python_data.shape[0]\n",
        "  ncols = python_data.shape[1]\n",
        "  print(f\"Рядків: {nrows}, Стовпців: {ncols}\")\n",
        "\n",
        "  # Використовуючи метод groupby, виконайте групування за стовпчиком \"Посада\"\n",
        "  display(Markdown(\"\"\"\n",
        "### *Використовуючи метод groupby, виконайте групування за стовпчиком \"Посада\"*\n",
        "  \"\"\"))\n",
        "  gr_by = python_data.groupby('Должность')\n",
        "  print(gr_by)\n",
        "\n",
        "  # Створіть новий DataFrame, де для згрупованих даних за стовпчиком \"Посада\", виконайте агрегацію даних за допомогою методу agg і знайдіть мінімальне та максимальне значення у стовпчику \"Зарплата.в.місяць\"\n",
        "  display(Markdown(\"\"\"\n",
        "### *Створіть новий DataFrame, де для згрупованих даних за стовпчиком \"Посада\", виконайте агрегацію даних за допомогою методу agg і знайдіть мінімальне та максимальне значення у стовпчику \"Зарплата.в.місяць\"*\n",
        "  \"\"\"))\n",
        "  df_gr_by = gr_by.agg({'Зарплата.в.месяц':['min', 'max']})\n",
        "  print(df_gr_by)\n",
        "\n",
        "  # Створіть функцію fill_avg_salary, яка повертатиме середнє значення заробітної плати на місяць. Використовуйте її для методу apply та створіть новий стовпчик \"avg\"\n",
        "  display(Markdown(\"\"\"\n",
        "### *Створіть функцію fill_avg_salary, яка повертатиме середнє значення заробітної плати на місяць. Використовуйте її для методу apply та створіть новий стовпчик \"avg\"*\n",
        "  \"\"\"))\n",
        "  def fill_avg_salary(salary_series):\n",
        "    min_salary = salary_series.min()\n",
        "    max_salary = salary_series.max()\n",
        "    return (min_salary + max_salary) / 2.0\n",
        "\n",
        "  df_gr_by = gr_by.agg({'Зарплата.в.месяц':['min', 'max', ('avg', fill_avg_salary)]})\n",
        "  print(df_gr_by)\n",
        "\n",
        "  # Створіть описову статистику за допомогою методу describe для нового стовпчика.\n",
        "  display(Markdown(\"\"\"\n",
        "### *Створіть описову статистику за допомогою методу describe для нового стовпчика.*\n",
        "  \"\"\"))\n",
        "  print(df_gr_by['Зарплата.в.месяц', 'avg'].describe())\n",
        "\n",
        "  # Збережіть отриману таблицю в CSV файл\n",
        "  display(Markdown(\"\"\"\n",
        "### *Збережіть отриману таблицю в CSV файл*\n",
        "  \"\"\"))\n",
        "  df_gr_by.to_csv(\"ЗарплатаПосади.csv\")\n",
        "\n",
        "  return 'Ok'\n",
        "\n",
        "w02()\n",
        "\n"
      ]
    }
  ],
  "metadata": {
    "colab": {
      "provenance": []
    },
    "kernelspec": {
      "display_name": "Python 3",
      "name": "python3"
    },
    "language_info": {
      "name": "python",
      "version": "3.10.12"
    }
  },
  "nbformat": 4,
  "nbformat_minor": 0
}
